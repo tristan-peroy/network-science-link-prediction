{
 "cells": [
  {
   "cell_type": "markdown",
   "metadata": {},
   "source": [
    "## Network Science Project 1\n",
    "### Autumn 2021\n",
    "### Due: November 5th, 4:00pm GMT"
   ]
  },
  {
   "cell_type": "markdown",
   "metadata": {},
   "source": [
    "Name: Tristan Peroy         \n",
    "CID: 01854740"
   ]
  },
  {
   "cell_type": "markdown",
   "metadata": {},
   "source": [
    "Please enter your name and 8-digit college ID in the cell above"
   ]
  },
  {
   "cell_type": "code",
   "execution_count": 3,
   "metadata": {},
   "outputs": [],
   "source": [
    "# Do not modify this cell or import any other modules\n",
    "# without the instructor's permission. \n",
    "# You should run this cell before running the code below.\n",
    "import numpy as np\n",
    "%matplotlib inline\n",
    "import matplotlib.pyplot as plt\n",
    "import networkx as nx\n",
    "from sklearn.metrics import roc_auc_score as auc\n",
    "#You may also use scipy as needed\n",
    "from scipy import sparse"
   ]
  },
  {
   "cell_type": "markdown",
   "metadata": {},
   "source": [
    "### Overview"
   ]
  },
  {
   "cell_type": "markdown",
   "metadata": {},
   "source": [
    "When collecting data used to construct large complex networks, it can be a substantial challenge to capture all links in the network. The development of methods to identify \"missing\" links in networks is an important and active area of research. A simple but effective method for link prediction is based on node similarity. The basic idea is: the higher the similarity of a pair of unlinked nodes, the more likely that a link between the nodes was missed during data collection. In this project you will work with codes for link prediction based on two node similarity measures: the cosine similarity and the number of common neighbors.\n",
    "\n",
    "You should assume that we are working with simple graphs (undirected graphs with no self-loops or multiedges) throughout this project. You should also assume that graph nodes are numbered from $0$ to $N-1$ where $N$ is the number of nodes in the graph. You have been provided with a file, *Project1.txt*, which contains data for a graph which is loaded in a cell below and which you should use throughout the assignment."
   ]
  },
  {
   "cell_type": "code",
   "execution_count": 4,
   "metadata": {},
   "outputs": [
    {
     "name": "stdout",
     "output_type": "stream",
     "text": [
      "[  0   0   0 ... 329 329 330]\n",
      "[  1   2   3 ... 330 331 331]\n",
      "[[2. 2. 2. ... 1. 0. 1.]]\n"
     ]
    },
    {
     "data": {
      "text/plain": [
       "(None, None, None)"
      ]
     },
     "execution_count": 4,
     "metadata": {},
     "output_type": "execute_result"
    }
   ],
   "source": [
    "def function1(A):\n",
    "    \"\"\"Function for question 1) below\n",
    "    Input:\n",
    "    A: Adjacency matrix\n",
    "    \n",
    "    Output:\n",
    "    out1,out2,out3: To be described in answer to question below\n",
    "    \"\"\"\n",
    "    A2 = A.dot(A)\n",
    "    N = A.shape[0]\n",
    "    out1,out2 = np.triu_indices(N,k=1)\n",
    "    out3 = A2[out1,out2]\n",
    "    \n",
    "    return out1,out2,out3\n",
    "\n",
    "#Load NetworkX graph from provided file and ensure nodes are numbered from 0 to 1\n",
    "G = nx.read_edgelist('project1.txt',nodetype=int)\n",
    "N = G.number_of_nodes()\n",
    "L1 = list(G.nodes())\n",
    "L2 = list(range(N))\n",
    "mapping = dict(zip(L1,L2))\n",
    "G = nx.relabel_nodes(G,mapping)\n",
    "#------------------------------\n",
    "\n",
    "#Create adjacency matrix and call function1\n",
    "A = nx.adjacency_matrix(G).astype(float)\n",
    "out1,out2,out3 = function1(A)\n",
    "print(out1),print(out2),print(out3)"
   ]
  },
  {
   "cell_type": "markdown",
   "metadata": {},
   "source": [
    "1) (5 pts) Examine the cell above and explain its functionality. Your explanation should include a clear, concise description of what the output of *function1* is and how it relates to the structure of the graph, $G$. "
   ]
  },
  {
   "cell_type": "markdown",
   "metadata": {},
   "source": [
    "*Add description for question 1 here*\n",
    "\n",
    "Given a matrix A, function1 multiplies A with itself, giving A2. Then it works out the number of nodes in the graph N, and creates an index filter returning a tuple of two arrays (out1 and out2) each with the indices along one the dimensions of the array. It extracts only the indices of the upper-triangle of the array with corners at (0,1),(0,N),(N-1,N) (with k=1 triu_indices ignores the diagonal).Then this is used to slice A2 and extract the values of A2 in this upper-triangle (in an array out3). Below the function a list of edges in a text file is read into and a dictionary associating the nodes to the numbers 0 up to N-1 is used to relabel the nodes in order from 0 to N-1 in G. The adjacency matrix A of graph G is now created and the function called on A. For A, N=331 so out1 and out2 can be read for the coordinates of the upper-triangle in A. The out3 value (corresponding to the ith row and jth column of A2) gives the number of common neighbours of node i and j in graph G (as the adjacency matrix is squared). Out1 and out2 give all the node pairs in G."
   ]
  },
  {
   "cell_type": "code",
   "execution_count": 5,
   "metadata": {},
   "outputs": [
    {
     "name": "stdout",
     "output_type": "stream",
     "text": [
      "[[  0   1]\n",
      " [  0   2]\n",
      " [  0   3]\n",
      " ...\n",
      " [329 330]\n",
      " [329 331]\n",
      " [330 331]]\n",
      "[0.66666667 0.51639778 0.21442251 ... 0.35355339 0.         0.70710678]\n",
      "[2. 2. 2. ... 1. 0. 1.]\n"
     ]
    },
    {
     "data": {
      "text/plain": [
       "(None, None, None)"
      ]
     },
     "execution_count": 5,
     "metadata": {},
     "output_type": "execute_result"
    }
   ],
   "source": [
    "def simFunc(A,k):\n",
    "    \"\"\"Compute cosine similarity and number of common neighbors for each distinct pair of nodes in\n",
    "    graph represented by adjacency matrix A.\n",
    "\n",
    "    Input:\n",
    "    A: Adjacency matrix\n",
    "    k: N-element Numpy array whose ith element contains the degree of node i in the graph\n",
    "\n",
    "    Output:\n",
    "    nodePairs: An Lmax x 2 numpy array containing the node numbers for each distinct pair of nodes in\n",
    "    the graph. nodePairs[i,:] should contain two integers corresponding to two distinct nodes.\n",
    "    The order of the two nodes and the order of the rows in nodePairs are not important. Here, \n",
    "    \n",
    "    \n",
    "    s: An Lmax-element numpy array. The ith element should contain the cosine similarity of the two nodes in the \n",
    "    ith row of nodePairs\n",
    "    \n",
    "    n:An Lmax-element numpy array. The ith element should contain the number of common neighbors of the two nodes in the \n",
    "    ith row of nodePairs\n",
    "\n",
    "    \"\"\"\n",
    "    #Use code below as needed\n",
    "    N = A.shape[0]\n",
    "    Lmax = int(N*(N-1)/2)\n",
    "    nodePairs = np.zeros((Lmax,2),dtype=int)\n",
    "    s,n = np.zeros(Lmax),np.zeros(Lmax)\n",
    "    #--------------------------\n",
    "    \n",
    "    #Add code here\n",
    "    out1,out2,out3=function1(A)\n",
    "    pairs=np.column_stack((out1,out2))\n",
    "    for i in range(len(pairs)):\n",
    "        nodePairs[i]=pairs[i]\n",
    "    for i in range(out3.shape[1]):\n",
    "        n[i]=out3[0,i]\n",
    "    index=0\n",
    "    for row in nodePairs:\n",
    "        i,j= row[0],row[1]\n",
    "        denominator=np.sqrt(k[i]*k[j])\n",
    "        s[index]=n[index]/denominator\n",
    "        index+=1\n",
    "    return nodePairs,s,n #please do not modify\n",
    "    \n",
    "\n",
    "k = np.array(list(nx.degree(G)))[:,1]+1e-12 #We add 1e-12 to each degree to avoid potential divide-by-zero errors\n",
    "nodePairs,s,n = simFunc(A,k)    \n",
    "print(nodePairs),print(s),print(n)"
   ]
  },
  {
   "cell_type": "markdown",
   "metadata": {},
   "source": [
    "2) (5 pts) Complete the function *simFunc* above so that it efficiently computes the cosine similarity and number of common beighbors for each distinct pair of nodes in the graph represented by the input adjacency matrix, $\\rm A$. See the function docstring for further information on the function input and output. The code should only use the variables provided to the function as input. You should design your code to work well for large graphs. You should **not** use any NetworkX functions within *simFunc*, and you should not modify the function input. Provide a brief description of your code in the cell below."
   ]
  },
  {
   "cell_type": "markdown",
   "metadata": {},
   "source": [
    "*Add description of code in simFunc here*\n",
    "\n",
    "Setting the left column as out1 values and right column as out2 values gives a matrix of node pairs nodePairs. Then using the fact that the ith value of out3 gives the number of common neighbours between the 2 nodes in ith row of nodePairs, we set each term of n equal to each value in out3. For each row in nodePairs, we then multiply the ith row and jth column of k and square root this to find the denominator of the formula for cosine similarity, and divide each number of common neighbours by the corresponding denominator, looping across the rows of nodePairs, giving s. We return nodePairs, s and n.\n"
   ]
  },
  {
   "cell_type": "markdown",
   "metadata": {},
   "source": [
    "### Link prediction\n",
    "\n",
    "Link prediction methods can be tested using the following procedure:\n",
    "\n",
    "1. For a given graph, $G$, select a fraction ($x$) of the links uniformly at random, and remove these links. Call the new graph, $G_2$.\n",
    "2. Compute the similarity of each node pair in $G_2$.\n",
    "3. Collect the similarities for each unlinked pair of nodes in $G_2$ in an array, $s$. Ideally, higher similarities should correspond to node pairs that were linked in the original graph, $G$.\n",
    "4. Assesses the quality of link prediction based on the similarities. This can be done using the AUC measure (code for computing the AUC has been provided below). AUC is a number between 0 and 1. A value of 1 indicates perfect prediction while 0.5 indicates that the prediction is no better than random guessing. No further information about AUC is needed for this assignment, though it is worth learning more about it if you are interested in machine learning where it is widely used.\n",
    "5. The AUC considers the similarities for all unlinked node pairs in $G_2$, however a simple alternative measure can be useful. Set $m$ to be a positive integer less than or equal to the number of links removed. Compute the fraction ($\\phi$) of the $m$ largest similarities which correspond to node pairs which were linked in $G$ but are unlinked in $G_2$. The closer this fraction is to 1, the better the method has performed in indentifying missing links.\n",
    "\n",
    "Below, you will develop code to assess the effectiveness of cosine similarity and number of common neighbors for predicting missing links. You will be asked to vary $x$ between $0.1$ and $0.9$, and $m$ will be set to $m=40$. \n",
    "\n",
    "Three functions have been provided in the cell below that may be helpful for the questions that follow.\n",
    "\n"
   ]
  },
  {
   "cell_type": "code",
   "execution_count": 8,
   "metadata": {},
   "outputs": [],
   "source": [
    "def removeEdges(G,x,seed=True):\n",
    "    \"\"\" Remove int(x*L) edges from G and return \n",
    "    modified graph as G2 along with array of removed edges. Here, \n",
    "    L is the number of links in G.\n",
    "    Input:\n",
    "    G: NetworkX graph\n",
    "    x: fraction of edges to remove\n",
    "    seed: when True, same set of edges will be removed with each call\n",
    "        to function.\n",
    "    \n",
    "    Output:\n",
    "    G2: G with edges removed\n",
    "    eRemove: Array of removed edges. Each row contains two integers \n",
    "            corresponding to a node pair which were connected by a link\n",
    "            which has been removed.\n",
    "    \"\"\"\n",
    "    if seed: np.random.seed(0) #set seed to True to remove same set of edges each call\n",
    "  \n",
    "    L = G.number_of_edges()\n",
    "    nRemove = int(x*L)\n",
    "    iRemove = np.random.choice(L,nRemove,replace=False)\n",
    "    eArray = np.array(list(G.edges()))\n",
    "    eRemove = eArray[iRemove,:] #edges to be removed\n",
    "\n",
    "    G2 = G.copy()\n",
    "    G2.remove_edges_from(eRemove)\n",
    "    return G2,eRemove\n",
    "\n",
    "\n",
    "def computeS(G2,eRemove):\n",
    "    \"\"\" \n",
    "    Constructs array containing similarities for unlinked node pairs \n",
    "    in G2 and computes AUC scores based on similarities\n",
    "    \n",
    "    Input:\n",
    "    G2: graph with removed links\n",
    "    eRemove: Array of removed edges. Each row contains two elements \n",
    "            corresponding to a node pair\n",
    "    \n",
    "    Output:\n",
    "    sArray: Lnon x 3 array where Lnon is number of unlinked node pairs in \n",
    "    G2. sArray[i,0] contains the cosine similarity of an unlinked node pair;\n",
    "    sArray[i,1] contains the number of common neighbors; sArray[i,2] is 1 if the\n",
    "    node-pair was linked in the original graph and is 0 otherwise.\n",
    "    \n",
    "    auc_cos: AUC score based on cosine similarity\n",
    "    \n",
    "    auc_cn: AUC score based on common neighbor similarity\n",
    "    \n",
    "    \"\"\"\n",
    "\n",
    "    A2 = nx.adjacency_matrix(G2).astype(float)\n",
    "    L2 = G2.number_of_edges()\n",
    "    k2 = np.array(list(nx.degree(G2)))[:,1]+1e-12 \n",
    "    \n",
    "    nodePairs,s,n = simFunc(A2,k2) #compute similarities\n",
    "    Lmax = s.size\n",
    "    s = s.reshape(Lmax,1)\n",
    "    n = n.reshape(Lmax,1)\n",
    "\n",
    "    #Construct lists of node pairs\n",
    "    eList_non = set(nx.non_edges(G2))  #unlinked node pairs\n",
    "    eList_all = list(zip(nodePairs[:,0],nodePairs[:,1])) #all node pairs\n",
    "    eList_remove = set(zip(eRemove[:,0],eRemove[:,1])) #unlinked node pairs that were linked in G\n",
    "\n",
    "  \n",
    "    #Build sArray as described in docstring \n",
    "    Lnon = len(eList_non)\n",
    "    Lall = len(eList_all)\n",
    "    Lremove = len(eList_remove)\n",
    "    sArray = np.zeros((Lnon,3))\n",
    "    count = 0\n",
    "    \n",
    "    for ind,e in enumerate(eList_all):\n",
    "        if e in eList_remove:\n",
    "            sArray[count,:] = [s[ind],n[ind],1]\n",
    "            count = count + 1\n",
    "        elif e in eList_non:\n",
    "            sArray[count,:] = [s[ind],n[ind],0]\n",
    "            count = count +1\n",
    "            \n",
    "    auc_cos,auc_cn = auc(sArray[:,2],sArray[:,0]),auc(sArray[:,2],sArray[:,1]) #compute AUC scores\n",
    " \n",
    "    return sArray,auc_cos,auc_cn\n",
    "\n",
    "\n",
    "\n",
    "def sortS(sArray,col=0):\n",
    "    \"\"\"Sorts sArray based on entries in specified column. So a row which contains a\n",
    "    maximum value of sArray[:,col] will be placed in sSorted[0,:].\n",
    "    Input: \n",
    "    sArray: 2D Numpy array to be sorted\n",
    "    col: the column by which sArray will be sorted. \n",
    "\n",
    "    Output:\n",
    "    sSorted: The elements of sSorted[:,col] will be nonincreasing\n",
    "    \"\"\"\n",
    "    ind = np.argsort(sArray[:,col])\n",
    "    ind = ind[-1::-1]\n",
    "    sSorted = sArray[ind,:]\n",
    "    return sSorted\n",
    "    \n",
    "\n",
    "def testLP(G,x,m=40):   \n",
    "    \"\"\"\n",
    "    Test link prediction methods when the x/L of links in G are randomly removed\n",
    "    Input:\n",
    "    G: Graph with no missing links\n",
    "    x: fraction of links to remove\n",
    "    m: parameter used to define phi\n",
    "    \n",
    "    Output:\n",
    "    auc_cos: array of AUC scores for cosine similarity-based prediction\n",
    "    auc_cn: array of AUC scores for common neighbor-based prediction\n",
    "    phi_cos: array of phi scores for cosine similarity-based prediction\n",
    "    phi_cn: array of phi scores for common neighbor-based prediction\n",
    "\n",
    "    Please do not modify the function header or the function input\n",
    "    \"\"\"\n",
    "    \n",
    "    #add code here\n",
    "    G2,eRemove=removeEdges(G,x,seed=True)\n",
    "    sArray,auc_cos,auc_cn=computeS(G2,eRemove)\n",
    "    \n",
    "    sArray_by_neighbours=sortS(sArray,col=1)\n",
    "    s_cn=sArray_by_neighbours[:m,2]\n",
    "    phi_cn=len(s_cn[s_cn==1])/len(s_cn)\n",
    "    \n",
    "    sArray_by_cosine=sortS(sArray,col=0)\n",
    "    s_cos=sArray_by_cosine[:m,2]\n",
    "    phi_cos=len(s_cos[s_cos==1])/len(s_cos)\n",
    "    \n",
    "    return auc_cos,auc_cn,phi_cos,phi_cn\n"
   ]
  },
  {
   "cell_type": "markdown",
   "metadata": {},
   "source": [
    "3) (5 pts) Complete *testLP* above so that it i) removes a fraction ($x$) of links from input graph $G$ to create $G_2$, ii) computes the $s$ array containing the cosine similarity and number of common neighbors for each unlinked node pair in $G_2$ along with the AUC scores for both similarities, and iii) computes $\\phi$ for both the cosine similarity and number of common neighbors with $m=40$. The function should return the AUC scores for each similarity as well as the $\\phi$ fractions for each similarity. Note that *computeS* will calculate AUC scores and the $s$ array for $G_2$.    "
   ]
  },
  {
   "cell_type": "markdown",
   "metadata": {},
   "source": [
    "4) (5 pts) Add code to the cell below so that it makes two well-designed figures. The first should show how the AUC scores for the two similarities vary with $x$, the fraction of links removed. The second figure should show how the $\\phi$ scores for the two similarities vary with $x$. Provide a clear and concise discussion of the trends that you observe. Your discussion should go beyond a simple qualitative description of the curves in your figures and provide some insight into why the trends are what has been observed. Also comment on whether or not $G_{Np}$ graphs would be useful for assessing these link prediction methods.\n",
    "\n",
    "When analyzing the $\\phi$ results for the cosine similarity, it may be helpful to examine the degrees of the nodes that have the highest similarities."
   ]
  },
  {
   "cell_type": "code",
   "execution_count": 9,
   "metadata": {},
   "outputs": [
    {
     "data": {
      "text/plain": [
       "<matplotlib.legend.Legend at 0x17271f28520>"
      ]
     },
     "execution_count": 9,
     "metadata": {},
     "output_type": "execute_result"
    },
    {
     "data": {
      "image/png": "[encoded data removed]",
      "text/plain": [
       "<Figure size 720x360 with 2 Axes>"
      ]
     },
     "metadata": {
      "needs_background": "light"
     },
     "output_type": "display_data"
    }
   ],
   "source": [
    "#Add code here\n",
    "G = nx.read_edgelist('project1.txt',nodetype=int)\n",
    "N = G.number_of_nodes()\n",
    "L1 = list(G.nodes())\n",
    "L2 = list(range(N))\n",
    "mapping = dict(zip(L1,L2))\n",
    "G = nx.relabel_nodes(G,mapping)\n",
    "\n",
    "x_vals=np.arange(0.1,0.9,0.05)\n",
    "plt.figure(figsize=(10,5))\n",
    "\n",
    "plt.subplot(1,2,1)\n",
    "plt.grid()\n",
    "plt.plot(x_vals,[testLP(G,x)[0] for x in x_vals],'ro-',label='auc_cos')\n",
    "plt.plot(x_vals,[testLP(G,x)[1] for x in x_vals],'go-',label='auc_cn')\n",
    "plt.xlabel('x = fraction of links removed')\n",
    "plt.ylabel('auc')\n",
    "plt.legend()\n",
    "\n",
    "plt.subplot(1,2,2)\n",
    "plt.grid()\n",
    "plt.plot(x_vals,[testLP(G,x)[2] for x in x_vals],'ro-',label='phi_cos')\n",
    "plt.plot(x_vals,[testLP(G,x)[3] for x in x_vals],'go-',label='phi_cn')\n",
    "plt.xlabel('x = fraction of links removed')\n",
    "plt.ylabel('phi')\n",
    "plt.legend()\n"
   ]
  },
  {
   "cell_type": "markdown",
   "metadata": {},
   "source": [
    "**Discussion**\n",
    "\n",
    "*Add discussion here*\n",
    "\n",
    "For AUC, as the fractions of links removed is increased, the cosine and number of common neighbour AUCs decrease (faster and faster) though the cosine auc fraction is always slightly below. This is because the strength of prediction i.e. the auc values decreases as a greater proportion of the graph is unknown, like how a puzzle is more difficult when more pieces are missing. The auc model is almost guessing when most links are missing hence is around 0.5.\n",
    "\n",
    "Phi for common neighbours is slightly more accurate when around half the links are removed but overall quite constant and is relatively constant for cosine similarity. The phi value is almost 0 for cosine similarity and close to 1 for number of common neighbours.\n",
    "\n",
    "Nodes with high degree are likely to have a high number of common neighbours with another node simply because they each have more neighbours. Cosine similarity is a less accurate predictor as it is the number of common neighbours scaled by the degrees of the nodes (which would contribute to predictive value if not normalized as nodes with high degrees as more likely to have missing links). Degree is useful in predicting missing links as a node with high degree is more likely to have a missing link, but cosine similarity doesn't make use of the degree (while number of common neighbours does) as it scales number of common neighbours by the degree, hence degree is not used a factor in link prediction. Hence fewer missing links are detected by cosine similarity.\n",
    "\n",
    "Phi has a greater difference between cosine and cn similarities than auc as it is a more crude method that simply considers the \n",
    "fraction of node pairs which were linked in G but are unlinked in G2. The phi method is very reliant on the degree for prediction hence cosine similarity is inaccurate as it is scaled by it, while auc considers other factors. The largest number of common node similarities have some of the highest degrees, which is not the case for cosine similarity, hence the fraction unlinked in G2 is much lower.\n",
    "\n",
    "G_np graphs are made less useful by the fact that on real life networks clustering is higher than on a G_np model given the graph size as the degree distribution of a G_np follows a binomial with most nodes of degree close to an average.\n",
    "\n",
    "G_np graphs are not useful for auc as they assume each link is independent and of equally likely probability. However auc link prediction relies on existing links to fill in the missing links as shown by the graph, whereas these are completely random. Meanwhile, phi seems more reliant on the degree of the nodes so G_np graphs might be more useful in quickly generating random, different large graphs for testing this, though they aren't representative of real degree distributions."
   ]
  },
  {
   "cell_type": "markdown",
   "metadata": {},
   "source": [
    "### Further guidance\n",
    "\n",
    "* You should submit both your completed Jupyter notebook and *either* a pdf version or html version of your notebook (generated using File --- Download as). If you cannot generate a pdf, try installing latex first, or submit an html version instead.\n",
    "    To submit your assignment, go to the module Blackboard page and click on \"Project 1\". There will be an option to attach your completed Jupyter notebook and pdf/html file to your submission. (these should be named *project1.ipynb* and *project1.pdf* or *project1.html*). After attaching the notebook, submit your assignment, and include the message, \"This is my own work unless indicated otherwise.\" to confirm that the submission represents your individual work.\n",
    "* You may use numpy, scipy, and matplotlib as needed. You may use networkx as needed **except** for question 2) where it should not be used. Please do not any use any other packages without the instructor's permission.\n",
    "* Marking will be based on the correctness of your work, the efficiency of your code for question 2), and the degree to which your submission reflects a good understanding of the material covered up to the release of this assignment. For open-ended questions, we are particularly interested in your ability to identify and explain important properties and trends, and exhaustive descriptions are not needed. While creative ideas based on class material is welcome, you are not expected to base your work on new ideas/concepts/methods that have not been covered (and it is unlikely that credit will be given for such work).\n",
    "* Open-ended questions require sensible time-management on your part. Do not spend so much time on this assignment that it interferes substantially with your other modules. If you are concerned that your approach to the assignment may require an excessive amount of time, please get in touch with the instructor. \n",
    "* Questions on the assignment should be asked in private settings. This can be a \"private\" question on Ed (which is distinct from \"anonymous\"), asking for a one-on-one meeting during office hours, or by arrangement with your Problem class instructor.\n",
    "* Please regularly backup your work. For example, you could keep an updated copy of your notebook on OneDrive.\n",
    "* In order to assign partial credit, we need to understand what your code is doing, so please add comments to the code to help us.\n",
    "* It may be helpful to initally develop your code in a Python module (outside of a function) and run it in a qtconsole (or similar Python terminal) so that you can readily access the values of the variables you are using.\n",
    "* Feel free to use/modify codes that I have provided during the term so far.\n"
   ]
  },
  {
   "cell_type": "code",
   "execution_count": null,
   "metadata": {},
   "outputs": [],
   "source": []
  }
 ],
 "metadata": {
  "kernelspec": {
   "display_name": "Python 3",
   "language": "python",
   "name": "python3"
  },
  "language_info": {
   "codemirror_mode": {
    "name": "ipython",
    "version": 3
   },
   "file_extension": ".py",
   "mimetype": "text/x-python",
   "name": "python",
   "nbconvert_exporter": "python",
   "pygments_lexer": "ipython3",
   "version": "3.8.5"
  }
 },
 "nbformat": 4,
 "nbformat_minor": 1
}
